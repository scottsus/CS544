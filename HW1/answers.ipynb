{
 "cells": [
  {
   "cell_type": "markdown",
   "metadata": {},
   "source": [
    "## Read data"
   ]
  },
  {
   "cell_type": "code",
   "execution_count": 21,
   "metadata": {},
   "outputs": [
    {
     "name": "stderr",
     "output_type": "stream",
     "text": [
      "/var/folders/4k/8jk4g7fx3xl9p5mzpl0rkqj40000gp/T/ipykernel_32723/2109664044.py:4: DtypeWarning: Columns (7) have mixed types. Specify dtype option on import or set low_memory=False.\n",
      "  full_df = pd.read_csv(file_path, delimiter='\\t', on_bad_lines='skip')\n"
     ]
    },
    {
     "name": "stdout",
     "output_type": "stream",
     "text": [
      "   marketplace  customer_id       review_id  product_id  product_parent  \\\n",
      "0           US     43081963  R18RVCKGH1SSI9  B001BM2MAC       307809868   \n",
      "1           US     10951564  R3L4L6LW1PUOFY  B00DZYEXPQ        75004341   \n",
      "2           US     21143145  R2J8AWXWTDX2TF  B00RTMUHDW       529689027   \n",
      "3           US     52782374  R1PR37BR7G3M6A  B00D7H8XB6       868449945   \n",
      "4           US     24045652  R3BDDDZMZBZDPU  B001XCWP34        33521401   \n",
      "..         ...          ...             ...         ...             ...   \n",
      "95          US     43069257  R2Y8H6IMJICNHE  B00E7W6SIU       649134050   \n",
      "96          US      4219837  R3BOZ2S3XKQQDQ  B005XBFYY8       292062400   \n",
      "97          US     10021573  R2EWS2YM55KC99  B007AJ92T4       172016162   \n",
      "98          US     24270459  R3SW4W88I5NUWB  B000E25X92        19288137   \n",
      "99          US     15354510  R15QQMDRBSSDGY  B00N1Q70GM       137395659   \n",
      "\n",
      "                                        product_title product_category  \\\n",
      "0      Scotch Cushion Wrap 7961, 12 Inches x 100 Feet  Office Products   \n",
      "1           Dust-Off Compressed Gas Duster, Pack of 4  Office Products   \n",
      "2   Amram Tagger Standard Tag Attaching Tagging Gu...  Office Products   \n",
      "3   AmazonBasics 12-Sheet High-Security Micro-Cut ...  Office Products   \n",
      "4   Derwent Colored Pencils, Inktense Ink Pencils,...  Office Products   \n",
      "..                                                ...              ...   \n",
      "95                        CHART EL ALFABETO - T-38505  Office Products   \n",
      "96          Crystal Desk Calculator (Assorted Colors)  Office Products   \n",
      "97            Custom For Deposit Only Stamp (3 Lines)  Office Products   \n",
      "98  Bankers Box Stor/Drawer Steel Plus Storage Dra...  Office Products   \n",
      "99  2 x FLOUERON 2.4V 800mAh Reachargeable Battery...  Office Products   \n",
      "\n",
      "   star_rating  helpful_votes  total_votes vine verified_purchase  \\\n",
      "0            5            0.0          0.0    N                 Y   \n",
      "1            5            0.0          1.0    N                 Y   \n",
      "2            5            0.0          0.0    N                 Y   \n",
      "3            1            2.0          3.0    N                 Y   \n",
      "4            4            0.0          0.0    N                 Y   \n",
      "..         ...            ...          ...  ...               ...   \n",
      "95           3            0.0          0.0    N                 Y   \n",
      "96           1            0.0          0.0    N                 Y   \n",
      "97           5            0.0          0.0    N                 Y   \n",
      "98           5            0.0          0.0    N                 Y   \n",
      "99           5            0.0          0.0    N                 Y   \n",
      "\n",
      "                                      review_headline  \\\n",
      "0                                          Five Stars   \n",
      "1   Phffffffft, Phfffffft. Lots of air, and it's C...   \n",
      "2                       but I am sure I will like it.   \n",
      "3   and the shredder was dirty and the bin was par...   \n",
      "4                                          Four Stars   \n",
      "..                                                ...   \n",
      "95  It is ok, but considering the price plus shipp...   \n",
      "96                                              Bling   \n",
      "97                                 Totally satisfied.   \n",
      "98                               Perfect Bankers Box!   \n",
      "99                                        I am happy.   \n",
      "\n",
      "                                          review_body review_date  \n",
      "0                                      Great product.  2015-08-31  \n",
      "1   What's to say about this commodity item except...  2015-08-31  \n",
      "2     Haven't used yet, but I am sure I will like it.  2015-08-31  \n",
      "3   Although this was labeled as &#34;new&#34; the...  2015-08-31  \n",
      "4                     Gorgeous colors and easy to use  2015-08-31  \n",
      "..                                                ...         ...  \n",
      "95  It is ok, but considering the price plus shipp...  2015-08-31  \n",
      "96  It has nothing to do with the performance of t...  2015-08-31  \n",
      "97            Exactly as promised. Totally satisfied.  2015-08-31  \n",
      "98  Excellent storage!  Once I found the instructi...  2015-08-31  \n",
      "99  Have had them for about one year now. They are...  2015-08-31  \n",
      "\n",
      "[100 rows x 15 columns]\n"
     ]
    }
   ],
   "source": [
    "import pandas as pd\n",
    "\n",
    "file_path = './amazon_reviews_us_Office_Products_v1_00.tsv'\n",
    "full_df = pd.read_csv(file_path, delimiter='\\t', on_bad_lines='skip')\n",
    "full_df.dropna()\n",
    "\n",
    "print(full_df.head(100))"
   ]
  },
  {
   "cell_type": "markdown",
   "metadata": {},
   "source": [
    "## Keep reviews and ratings"
   ]
  },
  {
   "cell_type": "code",
   "execution_count": 22,
   "metadata": {},
   "outputs": [
    {
     "name": "stdout",
     "output_type": "stream",
     "text": [
      "                                               review_body star_rating\n",
      "0                                           Great product.           5\n",
      "1        What's to say about this commodity item except...           5\n",
      "2          Haven't used yet, but I am sure I will like it.           5\n",
      "3        Although this was labeled as &#34;new&#34; the...           1\n",
      "4                          Gorgeous colors and easy to use           4\n",
      "...                                                    ...         ...\n",
      "2640249  I can't live anymore whithout my Palm III. But...           4\n",
      "2640250  Although the Palm Pilot is thin and compact it...           4\n",
      "2640251  This book had a lot of great content without b...           4\n",
      "2640252  I am teaching a course in Excel and am using t...           5\n",
      "2640253  A very comprehensive layout of exactly how Vis...           5\n",
      "\n",
      "[2640254 rows x 2 columns]\n"
     ]
    }
   ],
   "source": [
    "cols = ['review_body', 'star_rating']\n",
    "reviews_ratings_df = full_df[cols]\n",
    "\n",
    "print(reviews_ratings_df)"
   ]
  },
  {
   "cell_type": "markdown",
   "metadata": {},
   "source": [
    " ## Form two classes and select 50000 reviews randomly from each class"
   ]
  },
  {
   "cell_type": "code",
   "execution_count": 23,
   "metadata": {},
   "outputs": [
    {
     "name": "stdout",
     "output_type": "stream",
     "text": [
      "                                               review_body star_rating  class\n",
      "1427149  It's difficult to get a telephone/fax/answerin...           5      2\n",
      "2333726  First of all, I ordered this thing at 3:30pm o...         5.0      2\n",
      "43704                               I couldn't be happier.           5      2\n",
      "2284893  This is by far the coolest note pad I have eve...         4.0      2\n",
      "2632318  I stand by my decision to buy it. The case loo...           4      2\n",
      "1052648  This product does a good job. No problems in u...         4.0      2\n",
      "523414              Just as described like the style of it           4      2\n",
      "394123   Very easy to use magnetic sheet. You can write...           5      2\n",
      "971798                                         Easy to use           5      2\n",
      "1267915  meet expectation.  delivery was timely, produc...           4      2\n",
      "410864   Seems to be of good quality and coordinates wi...           5      2\n",
      "1930978  i wanted this phones for an older person that ...           4      2\n",
      "1161143                                  Very serviceable.           5      2\n",
      "1849119  This thing will write on anything, just tried ...           5      2\n",
      "2314012  I love these Scotch Bubble Mailers, I use them...         5.0      2\n",
      "2025068  If you've ever shopped for ink, you'll know ho...           5      2\n",
      "1759085  This stamp is very easy to use and makes a ver...           5      2\n",
      "1896572  Love this bag. I had it over a year now. It ta...           5      2\n",
      "2063460  Love it, plenty of room to write in the square...           5      2\n",
      "358717   I love these - they are colorful - have a zipp...           5      2\n",
      "1183534  Great laser printer for the price.  Only compl...           4      2\n",
      "5397                             does the job, great price           5      2\n",
      "2031000  I was having some trouble with the toner not f...           5      2\n",
      "1626819  I looked at a number of printers before select...           4      2\n",
      "1679898  Love this Bible tote! Very attractive and I lo...           5      2\n",
      "1097747  This is a very good printer!  The only shortco...         4.0      2\n",
      "1044753  Exactly what I needed, small, sticky and lots ...           5      2\n",
      "1738589  I love this cash box... it keep bills organize...           5      2\n",
      "866205   Perfect for my needs, used it to wrap extensio...           5      2\n",
      "113384   Quite simply the GOLD STANDARD by which all ot...           5      2\n",
      "376320                     I would buy another works fine.           5      2\n",
      "2064509  came in the mail within 1 week of ordering. it...           5      2\n",
      "1932869  I bought it because I needed a place a place f...           5      2\n",
      "1471820  After having carpal tunnel and shoulder and ne...           5      2\n",
      "2308073  I am very happy with this phone.  I like the w...         5.0      2\n",
      "2259204  Last forever compaired to my old system, doese...         5.0      2\n",
      "2039221  did just what i wanted and love averys online ...           4      2\n",
      "937760                              My husband loves these           5      2\n",
      "1686897  Love these paint pens. I saw them on a tutoria...           5      2\n",
      "2058881  This pen writes really smooth and has a nice w...           5      2\n",
      "1723215  I purchased this W52P cordless model in late A...           5      2\n",
      "2124618  Worked great for my need an was the best price...           5      2\n",
      "926853   I bought these to be used in my Cannon MG6320 ...           5      2\n",
      "1981015  I bought this scanner for scanning 35M film. I...           4      2\n",
      "1847159  Great headset for the house. My kids are getti...           5      2\n",
      "1313431                                   a very good unit           5      2\n",
      "1207699  Just received yesterday.  Meets my needs but I...           4      2\n",
      "53121    I gave this journal as a gift to a little girl...           5      2\n",
      "45356    Arrived in perfect condition....just put in ou...           5      2\n",
      "591625                 Hard to fine these, They work great           5      2\n"
     ]
    }
   ],
   "source": [
    "class_1 = reviews_ratings_df[reviews_ratings_df['star_rating'].isin([1, 2, 3])].copy()\n",
    "class_2 = reviews_ratings_df[reviews_ratings_df['star_rating'].isin([4, 5])].copy()\n",
    "\n",
    "sample_size = 50_000\n",
    "class_1 = class_1.sample(n=min(len(class_1), sample_size))\n",
    "class_2 = class_2.sample(n=min(len(class_2), sample_size))\n",
    "classified_df = pd.concat([class_1, class_2])\n",
    "\n",
    "classified_df.loc[:, 'class'] = classified_df['star_rating'].apply(lambda x: 1 if x in [1,2,3] else 2)\n",
    "\n",
    "print(classified_df.tail(50))"
   ]
  },
  {
   "cell_type": "markdown",
   "metadata": {},
   "source": [
    "## Data cleaning"
   ]
  },
  {
   "cell_type": "code",
   "execution_count": 24,
   "metadata": {},
   "outputs": [
    {
     "name": "stdout",
     "output_type": "stream",
     "text": [
      "Average length of reviews before vs after: 321.5, 305.1\n"
     ]
    }
   ],
   "source": [
    "import re\n",
    "from contractions import fix\n",
    "\n",
    "cleaned_df = classified_df.dropna(subset=['review_body'])\n",
    "cleaned_df.loc[:, 'review_body'] = cleaned_df['review_body'].astype(str)\n",
    "cleaned_df.loc[:, 'review_body'] = cleaned_df['review_body'].str.lower()\n",
    "cleaned_df.loc[:, 'review_body'] = cleaned_df['review_body'].apply(lambda x: re.sub(r'<.*?>', '', x))\n",
    "cleaned_df.loc[:, 'review_body'] = cleaned_df['review_body'].apply(lambda x: re.sub(r'http\\S+', '', x))\n",
    "cleaned_df.loc[:, 'review_body'] = cleaned_df['review_body'].apply(lambda x: re.sub(r'[^a-z\\s]', '', x))\n",
    "cleaned_df.loc[:, 'review_body'] = cleaned_df['review_body'].apply(lambda x: ' '.join(x.split()))\n",
    "cleaned_df.loc[:, 'review_body'] = cleaned_df['review_body'].apply(lambda x: fix(x))\n",
    "\n",
    "ave_len_bef = classified_df['review_body'].str.len().mean()\n",
    "ave_len_aft = cleaned_df['review_body'].str.len().mean()\n",
    "\n",
    "print(f'Average length of reviews before vs after: {ave_len_bef:.1f}, {ave_len_aft:.1f}')"
   ]
  },
  {
   "cell_type": "markdown",
   "metadata": {},
   "source": [
    "## Preprocessing"
   ]
  },
  {
   "cell_type": "code",
   "execution_count": 25,
   "metadata": {},
   "outputs": [
    {
     "name": "stderr",
     "output_type": "stream",
     "text": [
      "[nltk_data] Downloading package stopwords to\n",
      "[nltk_data]     /Users/scottsus/nltk_data...\n",
      "[nltk_data]   Package stopwords is already up-to-date!\n",
      "[nltk_data] Downloading package wordnet to\n",
      "[nltk_data]     /Users/scottsus/nltk_data...\n",
      "[nltk_data]   Package wordnet is already up-to-date!\n",
      "[nltk_data] Downloading package punkt to /Users/scottsus/nltk_data...\n",
      "[nltk_data]   Package punkt is already up-to-date!\n"
     ]
    },
    {
     "data": {
      "text/plain": [
       "True"
      ]
     },
     "execution_count": 25,
     "metadata": {},
     "output_type": "execute_result"
    }
   ],
   "source": [
    "import nltk\n",
    "nltk.download('stopwords')\n",
    "nltk.download('wordnet')\n",
    "nltk.download('punkt')"
   ]
  },
  {
   "cell_type": "markdown",
   "metadata": {},
   "source": [
    "### Remove stop words "
   ]
  },
  {
   "cell_type": "code",
   "execution_count": 26,
   "metadata": {},
   "outputs": [
    {
     "name": "stdout",
     "output_type": "stream",
     "text": [
      "                                               review_body star_rating  class\n",
      "939996   soon put mfcdw printer signaled jam inside eve...           1      1\n",
      "1698116  dealt machine years hated every minute yes eat...           1      1\n",
      "1965940  let first saythis biggest junk ever purchased ...           1      1\n",
      "2600383  like reviewers also replace mine unit would re...           2      1\n",
      "2281202  printers last spews ink crimps page corners cr...         1.0      1\n",
      "...                                                    ...         ...    ...\n",
      "1313431                                          good unit           5      2\n",
      "1207699  received yesterday meets needs speak hold long...           4      2\n",
      "53121    gave journal gift little girl loves writing st...           5      2\n",
      "45356    arrived perfect conditionjust put printer comm...           5      2\n",
      "591625                                hard fine work great           5      2\n",
      "\n",
      "[99993 rows x 3 columns]\n"
     ]
    }
   ],
   "source": [
    "from nltk.corpus import stopwords\n",
    "stop_words = set(stopwords.words('english'))\n",
    "\n",
    "def remove_stop_words(text):\n",
    "    tokens = nltk.word_tokenize(text)\n",
    "    tokens = [token for token in tokens if token not in stop_words]\n",
    "    return ' '.join(tokens)\n",
    "\n",
    "no_stopwords_df = cleaned_df\n",
    "no_stopwords_df.loc[:, 'review_body'] = no_stopwords_df['review_body'].apply(remove_stop_words)\n",
    "\n",
    "print(no_stopwords_df)"
   ]
  },
  {
   "cell_type": "markdown",
   "metadata": {},
   "source": [
    "### Perform lemmatization  "
   ]
  },
  {
   "cell_type": "code",
   "execution_count": 27,
   "metadata": {},
   "outputs": [
    {
     "name": "stdout",
     "output_type": "stream",
     "text": [
      "                                               review_body star_rating  class\n",
      "939996   soon put mfcdw printer signaled jam inside eve...           1      1\n",
      "1698116  dealt machine year hated every minute yes eat ...           1      1\n",
      "1965940  let first saythis biggest junk ever purchased ...           1      1\n",
      "2600383  like reviewer also replace mine unit would rec...           2      1\n",
      "2281202  printer last spews ink crimp page corner crump...         1.0      1\n",
      "...                                                    ...         ...    ...\n",
      "1313431                                          good unit           5      2\n",
      "1207699  received yesterday meet need speak hold long t...           4      2\n",
      "53121    gave journal gift little girl love writing sto...           5      2\n",
      "45356    arrived perfect conditionjust put printer comm...           5      2\n",
      "591625                                hard fine work great           5      2\n",
      "\n",
      "[99993 rows x 3 columns]\n"
     ]
    }
   ],
   "source": [
    "from nltk.stem import WordNetLemmatizer\n",
    "\n",
    "def lemmatize(text):\n",
    "    lemmatizer = WordNetLemmatizer()\n",
    "    tokens = nltk.word_tokenize(text)\n",
    "    tokens = [lemmatizer.lemmatize(token) for token in tokens]\n",
    "    return ' '.join(tokens)\n",
    "\n",
    "lemmatized_df = no_stopwords_df\n",
    "lemmatized_df.loc[:, 'review_body'] = lemmatized_df['review_body'].apply(lemmatize)\n",
    "\n",
    "print(lemmatized_df)"
   ]
  },
  {
   "cell_type": "markdown",
   "metadata": {},
   "source": [
    "### Print results"
   ]
  },
  {
   "cell_type": "code",
   "execution_count": 28,
   "metadata": {},
   "outputs": [
    {
     "name": "stdout",
     "output_type": "stream",
     "text": [
      "Average length of reviews before vs after data preprocessing: 189.4, 321.5\n"
     ]
    }
   ],
   "source": [
    "ave_len_bef = cleaned_df['review_body'].str.len().mean()\n",
    "ave_len_aft = classified_df['review_body'].str.len().mean()\n",
    "\n",
    "print(f'Average length of reviews before vs after data preprocessing: {ave_len_bef:.1f}, {ave_len_aft:.1f}')"
   ]
  },
  {
   "cell_type": "markdown",
   "metadata": {},
   "source": [
    "# TF-IDF and BoW Feature Extraction"
   ]
  },
  {
   "cell_type": "code",
   "execution_count": 29,
   "metadata": {},
   "outputs": [
    {
     "name": "stdout",
     "output_type": "stream",
     "text": [
      "  (0, 2814)\t1\n",
      "  (0, 1246)\t1\n",
      "  (0, 4263)\t1\n",
      "  (0, 4482)\t1\n",
      "  (0, 2975)\t1\n",
      "  (0, 1757)\t1\n",
      "  (1, 3305)\t1\n",
      "  (1, 4927)\t1\n",
      "  (1, 1869)\t1\n",
      "  (2, 3305)\t1\n",
      "  (2, 3311)\t2\n",
      "  (2, 3302)\t1\n",
      "  (2, 2188)\t1\n",
      "  (2, 3045)\t1\n",
      "  (2, 2582)\t1\n",
      "  (2, 2783)\t1\n",
      "  (2, 1906)\t1\n",
      "  (2, 2490)\t1\n",
      "  (2, 3394)\t1\n",
      "  (2, 4349)\t1\n",
      "  (2, 2535)\t1\n",
      "  (2, 3893)\t1\n",
      "  (2, 784)\t1\n",
      "  (2, 3150)\t1\n",
      "  (2, 574)\t1\n",
      "  :\t:\n",
      "  (79992, 2089)\t1\n",
      "  (79993, 3305)\t1\n",
      "  (79993, 602)\t1\n",
      "  (79993, 1463)\t1\n",
      "  (79993, 4500)\t2\n",
      "  (79993, 3890)\t2\n",
      "  (79993, 2200)\t2\n",
      "  (79993, 3333)\t1\n",
      "  (79993, 2202)\t1\n",
      "  (79993, 4528)\t1\n",
      "  (79993, 558)\t1\n",
      "  (79993, 1815)\t1\n",
      "  (79993, 4523)\t1\n",
      "  (79993, 557)\t1\n",
      "  (79993, 169)\t1\n",
      "  (79993, 3326)\t1\n",
      "  (79993, 2972)\t1\n",
      "  (79993, 4608)\t1\n",
      "  (79993, 1399)\t1\n",
      "  (79993, 1444)\t1\n",
      "  (79993, 3666)\t1\n",
      "  (79993, 3629)\t1\n",
      "  (79993, 3884)\t1\n",
      "  (79993, 772)\t1\n",
      "  (79993, 2934)\t1   (0, 4722)\t1\n",
      "  (0, 2077)\t1\n",
      "  (0, 2841)\t1\n",
      "  (0, 2310)\t1\n",
      "  (0, 270)\t1\n",
      "  (0, 2636)\t1\n",
      "  (0, 4077)\t1\n",
      "  (0, 2754)\t1\n",
      "  (0, 4272)\t1\n",
      "  (0, 2368)\t1\n",
      "  (0, 263)\t1\n",
      "  (1, 3305)\t1\n",
      "  (1, 3302)\t1\n",
      "  (1, 602)\t2\n",
      "  (1, 1640)\t1\n",
      "  (1, 4927)\t1\n",
      "  (1, 2582)\t1\n",
      "  (1, 2200)\t1\n",
      "  (1, 3152)\t1\n",
      "  (1, 1869)\t1\n",
      "  (1, 4950)\t1\n",
      "  (1, 4528)\t1\n",
      "  (1, 3294)\t1\n",
      "  (1, 3177)\t1\n",
      "  (1, 3408)\t1\n",
      "  :\t:\n",
      "  (19997, 4402)\t1\n",
      "  (19997, 4939)\t1\n",
      "  (19998, 3844)\t1\n",
      "  (19998, 1655)\t1\n",
      "  (19998, 1438)\t1\n",
      "  (19998, 1998)\t1\n",
      "  (19998, 4868)\t1\n",
      "  (19998, 307)\t1\n",
      "  (19998, 220)\t1\n",
      "  (19998, 1335)\t1\n",
      "  (19998, 458)\t1\n",
      "  (19998, 473)\t1\n",
      "  (19998, 4473)\t1\n",
      "  (19998, 3400)\t1\n",
      "  (19998, 1416)\t1\n",
      "  (19998, 2512)\t1\n",
      "  (19998, 1966)\t1\n",
      "  (19998, 1042)\t1\n",
      "  (19998, 2320)\t1\n",
      "  (19998, 2597)\t1\n",
      "  (19998, 1277)\t1\n",
      "  (19998, 3887)\t1\n",
      "  (19998, 4502)\t1\n",
      "  (19998, 1944)\t1\n",
      "  (19998, 4012)\t1 1925547    2\n",
      "843190     2\n",
      "535063     2\n",
      "1369260    2\n",
      "226906     2\n",
      "          ..\n",
      "2197983    2\n",
      "853686     1\n",
      "1889918    2\n",
      "259358     1\n",
      "162774     1\n",
      "Name: class, Length: 79994, dtype: int64 759199     2\n",
      "2377014    1\n",
      "2268781    1\n",
      "1657103    2\n",
      "1382480    1\n",
      "          ..\n",
      "469406     1\n",
      "1315743    1\n",
      "2629940    1\n",
      "2044469    2\n",
      "1706523    2\n",
      "Name: class, Length: 19999, dtype: int64\n",
      "  (0, 1085)\t0.30216686918891206\n",
      "  (0, 3344)\t0.30556570704736863\n",
      "  (0, 1900)\t0.3273702360359684\n",
      "  (0, 4487)\t0.2904565218742197\n",
      "  (0, 2657)\t0.2430145169426823\n",
      "  (0, 3068)\t0.2745147623198679\n",
      "  (0, 1767)\t0.21686692078166545\n",
      "  (0, 4338)\t0.27806138563075805\n",
      "  (0, 1219)\t0.2178803885486463\n",
      "  (0, 294)\t0.27571275060970674\n",
      "  (0, 550)\t0.23662243598596383\n",
      "  (0, 4911)\t0.16876641313201604\n",
      "  (0, 307)\t0.17678274682136624\n",
      "  (0, 3487)\t0.17193911358904465\n",
      "  (0, 1863)\t0.15295558702300235\n",
      "  (0, 4722)\t0.1100435530696343\n",
      "  (0, 1869)\t0.11195888404975853\n",
      "  (0, 3844)\t0.16657942208513832\n",
      "  (0, 948)\t0.14303622104097619\n",
      "  (1, 1107)\t0.15118517900585887\n",
      "  (1, 4053)\t0.1261355260234855\n",
      "  (1, 2379)\t0.1331744746469727\n",
      "  (1, 1105)\t0.1413862877096064\n",
      "  (1, 413)\t0.14459241944591947\n",
      "  (1, 2363)\t0.1567053768945572\n",
      "  :\t:\n",
      "  (79992, 558)\t0.07245652341910126\n",
      "  (79992, 145)\t0.056415544323589716\n",
      "  (79992, 3333)\t0.07913596955828489\n",
      "  (79992, 4465)\t0.05768995671314646\n",
      "  (79992, 2936)\t0.31684611936143164\n",
      "  (79992, 2608)\t0.0836732699832487\n",
      "  (79992, 3609)\t0.0632180461341658\n",
      "  (79992, 2517)\t0.05166143305007873\n",
      "  (79992, 4731)\t0.05057673675087526\n",
      "  (79992, 4722)\t0.03759363673966073\n",
      "  (79992, 135)\t0.04862122448090043\n",
      "  (79992, 584)\t0.30326724178023484\n",
      "  (79992, 4448)\t0.08701869998322961\n",
      "  (79992, 3395)\t0.05384304476001583\n",
      "  (79992, 1166)\t0.05967857993487565\n",
      "  (79992, 4927)\t0.10211694893631033\n",
      "  (79992, 1463)\t0.05738055326805145\n",
      "  (79992, 4979)\t0.048483237072622774\n",
      "  (79992, 2832)\t0.30276429071734545\n",
      "  (79992, 4930)\t0.052667066397388475\n",
      "  (79992, 2940)\t0.03518307628347529\n",
      "  (79992, 2935)\t0.11294656654634452\n",
      "  (79992, 2080)\t0.05644117572197056\n",
      "  (79993, 1869)\t0.553904247234137\n",
      "  (79993, 1573)\t0.8325803774387095   (0, 3352)\t0.48580535924366347\n",
      "  (0, 3937)\t0.4724084751500792\n",
      "  (0, 1481)\t0.6364932396916703\n",
      "  (0, 3408)\t0.2209306910135614\n",
      "  (0, 4868)\t0.21523273624616898\n",
      "  (0, 3333)\t0.2014056612401231\n",
      "  (1, 4341)\t0.31131937756425376\n",
      "  (1, 1473)\t0.2116066758084749\n",
      "  (1, 133)\t0.2205337320245255\n",
      "  (1, 3304)\t0.20426792283226528\n",
      "  (1, 1388)\t0.7282610882176584\n",
      "  (1, 535)\t0.14699845567842942\n",
      "  (1, 3785)\t0.2642278746413375\n",
      "  (1, 3333)\t0.12883496804913525\n",
      "  (1, 2772)\t0.15503038001332461\n",
      "  (1, 4950)\t0.12141917820656134\n",
      "  (1, 3930)\t0.21556506422055635\n",
      "  (1, 3045)\t0.15449464291917608\n",
      "  (1, 602)\t0.14297148025861312\n",
      "  (2, 3417)\t0.04796336001573255\n",
      "  (2, 3415)\t0.04667439941042788\n",
      "  (2, 2203)\t0.14525685616701664\n",
      "  (2, 2443)\t0.13777906153533542\n",
      "  (2, 1262)\t0.09456085314544435\n",
      "  (2, 4867)\t0.0457304063403224\n",
      "  :\t:\n",
      "  (19998, 3099)\t0.2535479830772926\n",
      "  (19998, 719)\t0.11056104983868319\n",
      "  (19998, 4724)\t0.07373699245721714\n",
      "  (19998, 3106)\t0.17899929818337293\n",
      "  (19998, 4911)\t0.1804987554461824\n",
      "  (19998, 1962)\t0.13832741376794663\n",
      "  (19998, 1742)\t0.09341084707909941\n",
      "  (19998, 3408)\t0.13588351243204436\n",
      "  (19998, 2535)\t0.07736906394407185\n",
      "  (19998, 2530)\t0.08559470719831909\n",
      "  (19998, 3108)\t0.10315336561439598\n",
      "  (19998, 3294)\t0.06977640415210738\n",
      "  (19998, 2971)\t0.09185698796700663\n",
      "  (19998, 1998)\t0.10972001130500947\n",
      "  (19998, 4950)\t0.05837218183066907\n",
      "  (19998, 2980)\t0.10247841577910136\n",
      "  (19998, 4500)\t0.06301386383142916\n",
      "  (19998, 4385)\t0.08895036662291647\n",
      "  (19998, 4979)\t0.07589271125989246\n",
      "  (19998, 2832)\t0.07898813515277323\n",
      "  (19998, 2940)\t0.05507344828516656\n",
      "  (19998, 2935)\t0.0883998437424699\n",
      "  (19998, 179)\t0.0979871155653915\n",
      "  (19998, 1834)\t0.06388800710440762\n",
      "  (19998, 1456)\t0.07386597096285923 2203498    1\n",
      "1911974    1\n",
      "635480     2\n",
      "2411092    2\n",
      "2632706    1\n",
      "          ..\n",
      "418867     1\n",
      "1428090    2\n",
      "229070     2\n",
      "1730070    1\n",
      "782229     2\n",
      "Name: class, Length: 79994, dtype: int64 810696     2\n",
      "404055     1\n",
      "2286479    1\n",
      "841322     1\n",
      "218835     1\n",
      "          ..\n",
      "738371     2\n",
      "1211626    2\n",
      "2349667    1\n",
      "2523399    2\n",
      "949104     2\n",
      "Name: class, Length: 19999, dtype: int64\n"
     ]
    }
   ],
   "source": [
    "from sklearn.feature_extraction.text import TfidfVectorizer, CountVectorizer\n",
    "from sklearn.model_selection import train_test_split\n",
    "\n",
    "processed_df = lemmatized_df\n",
    "max_features = 5000\n",
    "\n",
    "bow_vectorizer = CountVectorizer(max_features=max_features)\n",
    "X_bow = bow_vectorizer.fit_transform(processed_df['review_body'])\n",
    "\n",
    "tfidf_vectorizer = TfidfVectorizer(max_features=max_features)\n",
    "X_tfidf = tfidf_vectorizer.fit_transform(processed_df['review_body'])\n",
    "\n",
    "y = processed_df['class']\n",
    "X_train_bow, X_test_bow, y_train_bow, y_test_bow = train_test_split(X_bow, y, test_size=0.20)\n",
    "X_train_tfidf, X_test_tfidf, y_train_tfidf, y_test_tfidf = train_test_split(X_tfidf, y, test_size=0.20)\n",
    "\n",
    "print(X_train_bow, X_test_bow, y_train_bow, y_test_bow)\n",
    "print(X_train_tfidf, X_test_tfidf, y_train_tfidf, y_test_tfidf)"
   ]
  },
  {
   "cell_type": "markdown",
   "metadata": {},
   "source": [
    "# Perceptron Using Both Features"
   ]
  },
  {
   "cell_type": "code",
   "execution_count": 30,
   "metadata": {},
   "outputs": [
    {
     "name": "stdout",
     "output_type": "stream",
     "text": [
      "Bag of Words Perceptron\n",
      "Precision: 0.76, Recall: 0.81, F1: 0.79\n",
      "TF-IDF Perceptron\n",
      "Precision: 0.76, Recall: 0.79, F1: 0.79\n"
     ]
    }
   ],
   "source": [
    "from sklearn.linear_model import Perceptron\n",
    "from sklearn.metrics import precision_score, recall_score, f1_score\n",
    "\n",
    "max_iters = 10_000\n",
    "\n",
    "perc_bow = Perceptron(max_iter=max_iters)\n",
    "perc_bow.fit(X_train_bow, y_train_bow)\n",
    "y_pred_bow = perc_bow.predict(X_test_bow)\n",
    "\n",
    "precision_bow = precision_score(y_test_bow, y_pred_bow)\n",
    "recall_bow = recall_score(y_test_bow, y_pred_bow)\n",
    "f1_bow = f1_score(y_test_bow, y_pred_bow)\n",
    "\n",
    "print('Bag of Words Perceptron')\n",
    "print(f'Precision: {precision_bow:.2f}, Recall: {recall_bow:.2f}, F1: {f1_bow:.2f}')\n",
    "\n",
    "perc_tfidf = Perceptron(max_iter=max_iters)\n",
    "perc_tfidf.fit(X_train_tfidf, y_train_tfidf)\n",
    "y_pred_tfidf = perc_tfidf.predict(X_test_tfidf)\n",
    "\n",
    "precision_tfidf = precision_score(y_test_tfidf, y_pred_tfidf)\n",
    "recall_tfidf = recall_score(y_test_tfidf, y_pred_tfidf)\n",
    "f1_tfidf = f1_score(y_test_tfidf, y_pred_tfidf)\n",
    "\n",
    "print('TF-IDF Perceptron')\n",
    "print(f'Precision: {precision_bow:.2}, Recall: {recall_tfidf:.2}, F1: {f1_tfidf:.2}')"
   ]
  },
  {
   "cell_type": "markdown",
   "metadata": {},
   "source": [
    "# SVM Using Both Features"
   ]
  },
  {
   "cell_type": "code",
   "execution_count": 31,
   "metadata": {},
   "outputs": [
    {
     "name": "stdout",
     "output_type": "stream",
     "text": [
      "Bag of Words SVM\n",
      "Precision: 0.84, Recall: 0.81, F1: 0.82\n",
      "TF-IDF SVM\n",
      "Precision: 0.84, Recall: 0.84, F1: 0.84\n"
     ]
    }
   ],
   "source": [
    "from sklearn.svm import LinearSVC\n",
    "\n",
    "svm_bow = LinearSVC(dual=False, max_iter=max_iters)\n",
    "svm_bow.fit(X_train_bow, y_train_bow)\n",
    "y_pred_bow = svm_bow.predict(X_test_bow)\n",
    "\n",
    "precision_bow = precision_score(y_test_bow, y_pred_bow)\n",
    "recall_bow = recall_score(y_test_bow, y_pred_bow)\n",
    "f1_bow = f1_score(y_test_bow, y_pred_bow)\n",
    "\n",
    "print('Bag of Words SVM')\n",
    "print(f'Precision: {precision_bow:.2}, Recall: {recall_bow:.2}, F1: {f1_bow:.2}')\n",
    "\n",
    "svm_tfidf = LinearSVC(dual=False, max_iter=max_iters)\n",
    "svm_tfidf.fit(X_train_tfidf, y_train_tfidf)\n",
    "y_pred_tfidf = svm_tfidf.predict(X_test_tfidf)\n",
    "\n",
    "precision_tfidf = precision_score(y_test_tfidf, y_pred_tfidf)\n",
    "recall_tfidf = recall_score(y_test_tfidf, y_pred_tfidf)\n",
    "f1_tfidf = f1_score(y_test_tfidf, y_pred_tfidf)\n",
    "\n",
    "print('TF-IDF SVM')\n",
    "print(f'Precision: {precision_tfidf:.2}, Recall: {recall_tfidf:.2}, F1: {f1_tfidf:.2}')"
   ]
  },
  {
   "cell_type": "markdown",
   "metadata": {},
   "source": [
    "# Logistic Regression Using Both Features"
   ]
  },
  {
   "cell_type": "code",
   "execution_count": 32,
   "metadata": {},
   "outputs": [
    {
     "name": "stdout",
     "output_type": "stream",
     "text": [
      "Bag of Words Logistic Regression\n",
      "Precision: 0.84, Recall: 0.82, F1: 0.83\n",
      "TF-IDF Logistic Regression\n",
      "Precision: 0.84, Recall: 0.84, F1: 0.84\n"
     ]
    }
   ],
   "source": [
    "from sklearn.linear_model import LogisticRegression\n",
    "\n",
    "logreg_bow = LogisticRegression(max_iter=max_iters)\n",
    "logreg_bow.fit(X_train_bow, y_train_bow)\n",
    "y_pred_bow = logreg_bow.predict(X_test_bow)\n",
    "\n",
    "precision_bow = precision_score(y_test_bow, y_pred_bow)\n",
    "recall_bow = recall_score(y_test_bow, y_pred_bow)\n",
    "f1_bow = f1_score(y_test_bow, y_pred_bow)\n",
    "\n",
    "print('Bag of Words Logistic Regression')\n",
    "print(f'Precision: {precision_bow:.2}, Recall: {recall_bow:.2}, F1: {f1_bow:.2}')\n",
    "\n",
    "logreg_tfidf = LogisticRegression(max_iter=max_iters)\n",
    "logreg_tfidf.fit(X_train_tfidf, y_train_tfidf)\n",
    "y_pred_tfidf = logreg_tfidf.predict(X_test_tfidf)\n",
    "\n",
    "precision_tfidf = precision_score(y_test_tfidf, y_pred_tfidf)\n",
    "recall_bow = recall_score(y_test_tfidf, y_pred_tfidf)\n",
    "f1_bow = f1_score(y_test_tfidf, y_pred_tfidf)\n",
    "\n",
    "print('TF-IDF Logistic Regression')\n",
    "print(f'Precision: {precision_tfidf:.2}, Recall: {recall_tfidf:.2}, F1: {f1_tfidf:.2}')"
   ]
  },
  {
   "cell_type": "markdown",
   "metadata": {},
   "source": [
    "# Naive Bayes Using Both Features"
   ]
  },
  {
   "cell_type": "code",
   "execution_count": 33,
   "metadata": {},
   "outputs": [
    {
     "name": "stdout",
     "output_type": "stream",
     "text": [
      "Bag of Words Multinomial Naive Bayes\n",
      "Precision: 0.83, Recall: 0.74, F1: 0.78\n",
      "TF-IDF Multinomial Naive Bayes\n",
      "Precision: 0.82, Recall: 0.84, F1: 0.84\n"
     ]
    }
   ],
   "source": [
    "from sklearn.naive_bayes import MultinomialNB\n",
    "\n",
    "nb_bow = MultinomialNB()\n",
    "nb_bow.fit(X_train_bow, y_train_bow)\n",
    "y_pred_bow = nb_bow.predict(X_test_bow)\n",
    "\n",
    "precision_bow = precision_score(y_test_bow, y_pred_bow)\n",
    "recall_bow = recall_score(y_test_bow, y_pred_bow)\n",
    "f1_bow = f1_score(y_test_bow, y_pred_bow)\n",
    "\n",
    "print('Bag of Words Multinomial Naive Bayes')\n",
    "print(f'Precision: {precision_bow:.2}, Recall: {recall_bow:.2}, F1: {f1_bow:.2}')\n",
    "\n",
    "nb_tfidf = MultinomialNB()\n",
    "nb_tfidf.fit(X_train_tfidf, y_train_tfidf)\n",
    "y_pred_tfidf = nb_tfidf.predict(X_test_tfidf)\n",
    "\n",
    "precision_tfidf = precision_score(y_test_tfidf, y_pred_tfidf)\n",
    "recall_bow = recall_score(y_test_tfidf, y_pred_tfidf)\n",
    "f1_bow = f1_score(y_test_tfidf, y_pred_tfidf)\n",
    "\n",
    "print('TF-IDF Multinomial Naive Bayes')\n",
    "print(f'Precision: {precision_tfidf:.2}, Recall: {recall_tfidf:.2}, F1: {f1_tfidf:.2}')"
   ]
  }
 ],
 "metadata": {
  "kernelspec": {
   "display_name": "Python 3",
   "language": "python",
   "name": "python3"
  },
  "language_info": {
   "codemirror_mode": {
    "name": "ipython",
    "version": 3
   },
   "file_extension": ".py",
   "mimetype": "text/x-python",
   "name": "python",
   "nbconvert_exporter": "python",
   "pygments_lexer": "ipython3",
   "version": "3.9.6"
  }
 },
 "nbformat": 4,
 "nbformat_minor": 4
}
